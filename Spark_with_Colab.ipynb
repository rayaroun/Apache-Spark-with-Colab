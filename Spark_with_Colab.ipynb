{
  "nbformat": 4,
  "nbformat_minor": 0,
  "metadata": {
    "colab": {
      "name": "Spark with Colab.ipynb",
      "provenance": [],
      "authorship_tag": "ABX9TyPzUZBj/NraR5OHipEijiQX",
      "include_colab_link": true
    },
    "kernelspec": {
      "name": "python3",
      "display_name": "Python 3"
    },
    "language_info": {
      "name": "python"
    }
  },
  "cells": [
    {
      "cell_type": "markdown",
      "metadata": {
        "id": "view-in-github",
        "colab_type": "text"
      },
      "source": [
        "<a href=\"https://colab.research.google.com/github/rayaroun/Apache-Spark-with-Colab/blob/master/Spark_with_Colab.ipynb\" target=\"_parent\"><img src=\"https://colab.research.google.com/assets/colab-badge.svg\" alt=\"Open In Colab\"/></a>"
      ]
    },
    {
      "cell_type": "markdown",
      "metadata": {
        "id": "BjkaqrX799be"
      },
      "source": [
        "#### Installing Java, Apache Spark and FindSpark"
      ]
    },
    {
      "cell_type": "code",
      "metadata": {
        "id": "5tI4HGoM-Byo"
      },
      "source": [
        "!apt-get install openjdk-8-jdk-headless -qq > /dev/null"
      ],
      "execution_count": 7,
      "outputs": []
    },
    {
      "cell_type": "code",
      "metadata": {
        "id": "A1BE0ICu-T1j"
      },
      "source": [
        "!wget -q http://archive.apache.org/dist/spark/spark-3.1.1/spark-3.1.1-bin-hadoop3.2.tgz\n",
        "!tar xf spark-3.1.1-bin-hadoop3.2.tgz"
      ],
      "execution_count": 8,
      "outputs": []
    },
    {
      "cell_type": "code",
      "metadata": {
        "id": "txTLKhYM-u8r"
      },
      "source": [
        "!pip install -q findspark"
      ],
      "execution_count": 9,
      "outputs": []
    },
    {
      "cell_type": "markdown",
      "metadata": {
        "id": "H0fg_-AI-xgy"
      },
      "source": [
        "#### Setting up environment variables"
      ]
    },
    {
      "cell_type": "code",
      "metadata": {
        "colab": {
          "base_uri": "https://localhost:8080/"
        },
        "id": "p6Hbu-6ZB1un",
        "outputId": "ae08a5ea-5896-41d7-820e-56228c55fb2a"
      },
      "source": [
        "cat ~/.bashrc"
      ],
      "execution_count": 25,
      "outputs": [
        {
          "output_type": "stream",
          "name": "stdout",
          "text": [
            "# If not running interactively, don't do anything\n",
            "[ -z \"$PS1\" ] && return\n",
            "\n",
            "# don't put duplicate lines in the history. See bash(1) for more options\n",
            "# ... or force ignoredups and ignorespace\n",
            "HISTCONTROL=ignoredups:ignorespace\n",
            "\n",
            "# append to the history file, don't overwrite it\n",
            "shopt -s histappend\n",
            "\n",
            "# for setting history length see HISTSIZE and HISTFILESIZE in bash(1)\n",
            "HISTSIZE=1000\n",
            "HISTFILESIZE=2000\n",
            "\n",
            "# check the window size after each command and, if necessary,\n",
            "# update the values of LINES and COLUMNS.\n",
            "shopt -s checkwinsize\n",
            "\n",
            "# make less more friendly for non-text input files, see lesspipe(1)\n",
            "[ -x /usr/bin/lesspipe ] && eval \"$(SHELL=/bin/sh lesspipe)\"\n",
            "\n",
            "PS1='\\[\\033[01;34m\\]\\w\\[\\033[00m\\]\\$ '\n",
            "\n",
            "# enable color support of ls and also add handy aliases\n",
            "if [ -x /usr/bin/dircolors ]; then\n",
            "    test -r ~/.dircolors && eval \"$(dircolors -b ~/.dircolors)\" || eval \"$(dircolors -b)\"\n",
            "    alias ls='ls --color=auto'\n",
            "    #alias dir='dir --color=auto'\n",
            "    #alias vdir='vdir --color=auto'\n",
            "\n",
            "    alias grep='grep --color=auto'\n",
            "    alias fgrep='fgrep --color=auto'\n",
            "    alias egrep='egrep --color=auto'\n",
            "fi\n",
            "\n",
            "# some more ls aliases\n",
            "alias ll='ls -alF'\n",
            "alias la='ls -A'\n",
            "alias l='ls -CF'\n",
            "\n"
          ]
        }
      ]
    },
    {
      "cell_type": "code",
      "metadata": {
        "colab": {
          "base_uri": "https://localhost:8080/"
        },
        "id": "S9Ax0XZHCJAv",
        "outputId": "1f96a56f-1b61-4ba1-c9a3-d5c742624a7a"
      },
      "source": [
        "ls\n"
      ],
      "execution_count": 21,
      "outputs": [
        {
          "output_type": "stream",
          "name": "stdout",
          "text": [
            "\u001b[0m\u001b[01;34mspark-3.1.1-bin-hadoop3.2\u001b[0m/  spark-3.1.1-bin-hadoop3.2.tgz\n"
          ]
        }
      ]
    },
    {
      "cell_type": "code",
      "metadata": {
        "colab": {
          "base_uri": "https://localhost:8080/",
          "height": 135
        },
        "id": "uwRE_w4jA7ns",
        "outputId": "dba0e95d-5dcf-4583-8bae-d9fbc4d9cf2f"
      },
      "source": [
        "import os\n",
        "os.environ[\"JAVA_HOME\"] = \"/usr/lib/jvm/java-8-openjdk-amd64\"\n",
        "os.environ[\"SPARK_HOME\"] = \"/home/spark-3.1.1-bin-hadoop3.2\"\n",
        "import findspark\n",
        "findspark.init()"
      ],
      "execution_count": 27,
      "outputs": [
        {
          "output_type": "error",
          "ename": "SyntaxError",
          "evalue": "ignored",
          "traceback": [
            "\u001b[0;36m  File \u001b[0;32m\"<ipython-input-27-66f0371c2a2f>\"\u001b[0;36m, line \u001b[0;32m1\u001b[0m\n\u001b[0;31m    export JAVA_HOME=\"/usr/lib/jvm/java-8-openjdk-amd64\"\u001b[0m\n\u001b[0m                   ^\u001b[0m\n\u001b[0;31mSyntaxError\u001b[0m\u001b[0;31m:\u001b[0m invalid syntax\n"
          ]
        }
      ]
    },
    {
      "cell_type": "code",
      "metadata": {
        "colab": {
          "base_uri": "https://localhost:8080/"
        },
        "id": "ERA6sRFuFROL",
        "outputId": "301ea8b9-787f-4938-8449-32fcd6e5d785"
      },
      "source": [
        "# trying a different way \n",
        "\n",
        "!pip install pyspark\n",
        "!pip install -U -q PyDrive\n",
        "import os\n",
        "os.environ[\"JAVA_HOME\"] = \"/usr/lib/jvm/java-8-openjdk-amd64\""
      ],
      "execution_count": 28,
      "outputs": [
        {
          "output_type": "stream",
          "name": "stdout",
          "text": [
            "Collecting pyspark\n",
            "  Downloading pyspark-3.1.2.tar.gz (212.4 MB)\n",
            "\u001b[K     |████████████████████████████████| 212.4 MB 60 kB/s \n",
            "\u001b[?25hCollecting py4j==0.10.9\n",
            "  Downloading py4j-0.10.9-py2.py3-none-any.whl (198 kB)\n",
            "\u001b[K     |████████████████████████████████| 198 kB 45.8 MB/s \n",
            "\u001b[?25hBuilding wheels for collected packages: pyspark\n",
            "  Building wheel for pyspark (setup.py) ... \u001b[?25l\u001b[?25hdone\n",
            "  Created wheel for pyspark: filename=pyspark-3.1.2-py2.py3-none-any.whl size=212880768 sha256=55d2661aca61c617d0a5c5835e76cdab48f62cc544add8d3daeac2c9d703fef0\n",
            "  Stored in directory: /root/.cache/pip/wheels/a5/0a/c1/9561f6fecb759579a7d863dcd846daaa95f598744e71b02c77\n",
            "Successfully built pyspark\n",
            "Installing collected packages: py4j, pyspark\n",
            "Successfully installed py4j-0.10.9 pyspark-3.1.2\n"
          ]
        }
      ]
    },
    {
      "cell_type": "code",
      "metadata": {
        "id": "POiCfFpxF50r"
      },
      "source": [
        "from pyspark.sql import SparkSession"
      ],
      "execution_count": 35,
      "outputs": []
    },
    {
      "cell_type": "code",
      "metadata": {
        "id": "fhtKT6LbGzM6"
      },
      "source": [
        "spark = SparkSession.builder.master(\"local[*]\").getOrCreate()"
      ],
      "execution_count": 36,
      "outputs": []
    },
    {
      "cell_type": "code",
      "metadata": {
        "colab": {
          "base_uri": "https://localhost:8080/",
          "height": 222
        },
        "id": "oTyunt2aG465",
        "outputId": "4d9e41ff-f3a7-4f8e-ac38-0cd6f0e39faf"
      },
      "source": [
        "spark.conf.set(\"spark.sql.repl.eagerEval.enabled\", True) # Property used to format output tables better\n",
        "spark"
      ],
      "execution_count": 38,
      "outputs": [
        {
          "output_type": "execute_result",
          "data": {
            "text/html": [
              "\n",
              "            <div>\n",
              "                <p><b>SparkSession - in-memory</b></p>\n",
              "                \n",
              "        <div>\n",
              "            <p><b>SparkContext</b></p>\n",
              "\n",
              "            <p><a href=\"http://b15ba4f0dbd0:4040\">Spark UI</a></p>\n",
              "\n",
              "            <dl>\n",
              "              <dt>Version</dt>\n",
              "                <dd><code>v3.1.1</code></dd>\n",
              "              <dt>Master</dt>\n",
              "                <dd><code>local[*]</code></dd>\n",
              "              <dt>AppName</dt>\n",
              "                <dd><code>pyspark-shell</code></dd>\n",
              "            </dl>\n",
              "        </div>\n",
              "        \n",
              "            </div>\n",
              "        "
            ],
            "text/plain": [
              "<pyspark.sql.session.SparkSession at 0x7f6efe7c7790>"
            ]
          },
          "metadata": {},
          "execution_count": 38
        }
      ]
    },
    {
      "cell_type": "code",
      "metadata": {
        "id": "0eDxtT2NG_jj"
      },
      "source": [
        ""
      ],
      "execution_count": null,
      "outputs": []
    }
  ]
}